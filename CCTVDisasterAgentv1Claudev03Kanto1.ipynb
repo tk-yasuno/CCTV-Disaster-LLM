{
 "cells": [
  {
   "cell_type": "markdown",
   "id": "425c7fb2",
   "metadata": {},
   "source": [
    "## CCTVストリーム画像から災害検知するエージェント\n",
    "### 🧩 システム構成（MVP）\n",
    "- graph TD\n",
    "- A[CCTV画像ストリーム] --> B[画像キャプチャ & 前処理]\n",
    "- B --> C[UI-TARS-1.5: Image-to-Text]\n",
    "- C --> D[災害キーワード、災害スコア判定モジュール]\n",
    "- D --> E[位置特定（カメラID → 地図）]\n",
    "- E --> F[被害要約生成]\n",
    "- F --> G[自然言語レポート生成]"
   ]
  },
  {
   "cell_type": "markdown",
   "id": "e5da0d1c",
   "metadata": {},
   "source": [
    "#### 1. 📸 画像キャプチャ & 前処理\n",
    "- 各CCTVから定期的に画像を取得（例：1分ごと）\n",
    "- 解像度調整、ノイズ除去、タイムスタンプ付与\n",
    "\n",
    "##### 🔧 必要なツール\n",
    "- | ツール | 用途 | \n",
    "- | ffmpeg | ストリームからフレームを抽出 | \n",
    "- | OpenCV | Pythonで画像処理と保存 | \n",
    "##### インストール\n",
    "- pip install yt-dlp opencv-python\n",
    "- ⇒Successfully installed opencv-python-4.12.0.88 yt-dlp-2025.6.30 \n",
    "- ▼Not well：sudo apt install ffmpeg\n",
    "##### sudo無効の仮想環境での対処法\n",
    "- そのメッセージは、お使いの環境（一部の仮想環境）で sudo 権限が無効化されていることを示しています。以下に、状況別の対処法を整理しました：\n",
    "- 🛠️ 対処法：sudo が無効な環境で ffmpeg を使うには？\n",
    "- ✅ 方法①：ffmpeg をバイナリで直接インストール（推奨）\n",
    "- 公式ffmpegビルドサイト または FFmpeg GitHub から静的バイナリをダウンロード、例（Linux x86_64）:\n",
    "- 実行ファイルをパスに追加（例：~/.local/bin）\n",
    "- 動作確認\n",
    "##### ffmpeg.exe Windows用\n",
    "- ffmpeg（拡張子なし）は Linux用の実行バイナリ\n",
    "- Windowsでは .exe 拡張子のある Windowsネイティブビルド が必要\n",
    "✅ 解決策：Windows向けの正しい ffmpeg.exe を入手する\n",
    "以下の手順で、Windows用の ffmpeg.exe を確実に取得できます：\n",
    "🔗 ステップ1：公式Windowsビルドサイトにアクセス\n",
    "👉 https://www.gyan.dev/ffmpeg/builds/\n",
    "📦 ステップ2：次のいずれかをダウンロード\n",
    "- ffmpeg-release-essentials.zip（軽量で必要最小限）、解凍し、exeを確認\n",
    "✅フォルダーを作成\n",
    "- New-Item -ItemType Directory -Path \"C:\\Tools\\ffmpeg\\bin\" -Force\n",
    "✅環境変数 PATH に追加（永続化）\n",
    "- $env:Path += \";C:\\Tools\\ffmpeg\\bin\"\n",
    "✅ 動作確認\n",
    "- ffmpeg -version → バージョン情報が表示されれば成功です！\n",
    "- ffmpeg version 7.1.1-essentials_build-www.gyan.dev Copyright (c) 2000-2025 the FFmpeg developers"
   ]
  },
  {
   "cell_type": "markdown",
   "id": "b33185db",
   "metadata": {},
   "source": [
    "### 🎥 ストリーム画像取得スクリプト（Windows環境向け）\n",
    "- CCTVストリームからの画像取得スクリプトの整備に進みましょう。\n",
    "- 関東地方整備局より、ライブ映像が試験配信されている。\n",
    "- 10秒ごとに、カメラが切り替わっている。\n",
    "- 次の「河川YouTubeライブ映像」を対象に、10秒ごとに静止画像を保存できるMVPコードを用意します。\n",
    "- 【試験配信】関東地方整備局　利根川・烏川　ライブ映像\n",
    "\n",
    "✅ 必要なツール\n",
    "| ツール | 用途 | \n",
    "| yt-dlp | YouTubeライブのストリームURLを取得 | \n",
    "| ffmpeg.exe | ストリームから静止画を抽出 | \n",
    "| PowerShell | スケジュール＆保存処理 | "
   ]
  },
  {
   "cell_type": "markdown",
   "id": "e2830377",
   "metadata": {},
   "source": [
    "- PowerShellスクリプトをPythonから実行できるように修正しました。\n",
    "新しいCell In[1]は、subprocessを使ってPowerShellスクリプトを呼び出すPythonコードになっています。\n",
    "- このまま実行すれば、PowerShellの処理がPythonから開始されます。"
   ]
  },
  {
   "cell_type": "code",
   "execution_count": 2,
   "id": "8b557e6a",
   "metadata": {},
   "outputs": [
    {
     "data": {
      "text/plain": [
       "CompletedProcess(args=['powershell', '-Command', '\\n$youtubeURL = \"https://www.youtube.com/live/IyE0H7nKP68?si=vaTbIU5cE8VFtQeg\"  # 河川YouTubeライブ映像のURL\\n$savePath   = \"C:\\\\Users\\\\yasun\\\\PyTorch\\\\CCTVDisasterAgent\\\\ToneKarasuFrames\"\\n$ffmpegPath = \"C:\\\\Tools\\\\ffmpeg\\\\bin\\\\ffmpeg.exe\"  # 必要に応じて変更\\n$interval   = 10  # 10秒\\n$Num_of_Captures = 20 # 画像取得回数, 200秒分\\nNew-Item -ItemType Directory -Path $savePath -Force | Out-Null\\nfor ($i = 0; $i -lt $Num_of_Captures; $i++) {\\n    $timestamp = Get-Date -Format \"yyyyMMdd_HHmmss\"\\n    $imageFile = \"$savePath\\\\frame_$timestamp.jpg\"\\n    $streamURL = yt-dlp -g $youtubeURL\\n    & \"$ffmpegPath\" -y -i \"$streamURL\" -frames:v 1 \"$imageFile\"\\n    Write-Host \"✅ Saved: $imageFile\"\\n    Start-Sleep -Seconds $interval\\n}\\n'], returncode=0)"
      ]
     },
     "execution_count": 2,
     "metadata": {},
     "output_type": "execute_result"
    }
   ],
   "source": [
    "import subprocess\n",
    "powershell_script = r'''\n",
    "$youtubeURL = \"https://www.youtube.com/live/IyE0H7nKP68?si=vaTbIU5cE8VFtQeg\"  # 河川YouTubeライブ映像のURL\n",
    "$savePath   = \"C:\\Users\\yasun\\PyTorch\\CCTVDisasterAgent\\ToneKarasuFrames\"\n",
    "$ffmpegPath = \"C:\\Tools\\ffmpeg\\bin\\ffmpeg.exe\"  # 必要に応じて変更\n",
    "$interval   = 10  # 10秒\n",
    "$Num_of_Captures = 20 # 画像取得回数, 200秒分\n",
    "New-Item -ItemType Directory -Path $savePath -Force | Out-Null\n",
    "for ($i = 0; $i -lt $Num_of_Captures; $i++) {\n",
    "    $timestamp = Get-Date -Format \"yyyyMMdd_HHmmss\"\n",
    "    $imageFile = \"$savePath\\frame_$timestamp.jpg\"\n",
    "    $streamURL = yt-dlp -g $youtubeURL\n",
    "    & \"$ffmpegPath\" -y -i \"$streamURL\" -frames:v 1 \"$imageFile\"\n",
    "    Write-Host \"✅ Saved: $imageFile\"\n",
    "    Start-Sleep -Seconds $interval\n",
    "}\n",
    "'''\n",
    "subprocess.run(['powershell', '-Command', powershell_script])"
   ]
  },
  {
   "cell_type": "markdown",
   "id": "68475961",
   "metadata": {},
   "source": [
    "### 2. 🧠 Claudeによる画像理解(Image-to-Text LLM Prediction)\n",
    "- 各画像に対して以下のプロンプトを付与：\n",
    "- <|system|> あなたは災害監視エージェントです。\n",
    "- <|user|> この画像に洪水の兆候がありますか？水位、道路冠水、土砂崩れなどを説明してください。\n",
    "- <|vision_start|>...画像トークン...<|vision_end|>\n",
    "##### ⇒出力：自然言語による被害説明（例：「道路が冠水しており、車両が立ち往生している」）"
   ]
  },
  {
   "cell_type": "markdown",
   "id": "9201ea31",
   "metadata": {},
   "source": [
    "#### Anthropic APIの anthropic-version ヘッダー\n",
    "- \"2023-06-01\" または \"2023-10-01\" など、公式ドキュメントで指定された有効なバージョンのみが使えます。"
   ]
  },
  {
   "cell_type": "code",
   "execution_count": 1,
   "id": "c50b8b06",
   "metadata": {},
   "outputs": [
    {
     "name": "stdout",
     "output_type": "stream",
     "text": [
      "This image shows a view of the Tone River (利根川) in Chiba Prefecture, Japan. The image is a night view, likely from a monitoring camera, as indicated by the text overlay providing location details.\n",
      "\n",
      "Regarding signs of flooding, road damage, or disaster impact:\n",
      "\n",
      "1. Water level: The river appears to be at a normal level, not showing any obvious signs of flooding. The banks of the river are clearly visible and not submerged.\n",
      "\n",
      "2. Riverbank condition: The grassy area along the riverbank seems intact and not eroded, which would be a sign if there had been recent flooding.\n",
      "\n",
      "3. Infrastructure: There are no visible signs of damage to any structures or roads in the image. The paths visible on the riverbank appear to be in normal condition.\n",
      "\n",
      "4. Debris: There's no evident debris or displaced objects that might indicate recent flooding or storm damage.\n",
      "\n",
      "5. Lighting: The city lights in the background are functioning, suggesting no widespread power outages that might occur during a disaster.\n",
      "\n",
      "Overall, this image does not show any clear signs of flooding, road damage, or disaster impact. The river and surrounding area appear to be in a normal state. However, it's important to note that this is a single snapshot and may not represent conditions upstream or downstream, or how they might change over time.\n"
     ]
    }
   ],
   "source": [
    "# Claude モデルを使用するための準備\n",
    "from dotenv import load_dotenv\n",
    "import os\n",
    "\n",
    "load_dotenv()\n",
    "api_key = os.getenv(\"ANTHROPIC_API_KEY\")\n",
    "\n",
    "# 1. 画像をbase64エンコード\n",
    "import base64\n",
    "\n",
    "def encode_image(image_path):\n",
    "    with open(image_path, \"rb\") as f:\n",
    "        return base64.b64encode(f.read()).decode(\"utf-8\")\n",
    "\n",
    "# 2. Claude APIリクエスト構築（被害説明プロンプト）\n",
    "import requests\n",
    "\n",
    "image_path = r\"C:\\Users\\yasun\\PyTorch\\CCTVDisasterAgent\\5_CaseKanto\\KantoYT1_20250714_034402.jpg\"\n",
    "\n",
    "image_b64 = encode_image(image_path)  # 画像パスを適宜変更\n",
    "\n",
    "payload = {\n",
    "  \"model\": \"claude-3-5-sonnet-20240620\",\n",
    "  \"messages\": [{\n",
    "    \"role\": \"user\",\n",
    "    \"content\": [\n",
    "      {\"type\": \"text\", \"text\": \"Please analyze this image and describe any signs of flooding, road damage, or disaster impact.\"},\n",
    "      {\n",
    "        \"type\": \"image\",\n",
    "        \"source\": {\n",
    "          \"type\": \"base64\",\n",
    "          \"media_type\": \"image/jpeg\",\n",
    "          \"data\": image_b64\n",
    "        }\n",
    "      }\n",
    "    ]\n",
    "  }],\n",
    "  \"max_tokens\": 2048 #1024\n",
    "}\n",
    "\n",
    "response = requests.post(\n",
    "    \"https://api.anthropic.com/v1/messages\",\n",
    "    headers={\n",
    "        \"x-api-key\": api_key,\n",
    "        \"anthropic-version\": \"2023-06-01\",\n",
    "        \"content-type\": \"application/json\"\n",
    "    },\n",
    "    json=payload\n",
    ")\n",
    "\n",
    "print(response.json()[\"content\"][0][\"text\"])"
   ]
  },
  {
   "cell_type": "code",
   "execution_count": 2,
   "id": "67988385",
   "metadata": {},
   "outputs": [
    {
     "name": "stdout",
     "output_type": "stream",
     "text": [
      "Status Code: 200\n",
      "Response JSON: {'id': 'msg_01C4b9gFx8Z4eP2T9QCRbxWb', 'type': 'message', 'role': 'assistant', 'model': 'claude-3-5-sonnet-20240620', 'content': [{'type': 'text', 'text': \"This image shows a view of the Tone River (利根川) in Chiba Prefecture, Japan. The image is a night view, likely from a monitoring camera, as indicated by the text overlay providing location details.\\n\\nRegarding signs of flooding, road damage, or disaster impact:\\n\\n1. Water level: The river appears to be at a normal level, not showing any obvious signs of flooding. The banks of the river are clearly visible and not submerged.\\n\\n2. Riverbank condition: The grassy area along the riverbank seems intact and not eroded, which would be a sign if there had been recent flooding.\\n\\n3. Infrastructure: There are no visible signs of damage to any structures or roads in the image. The paths visible on the riverbank appear to be in normal condition.\\n\\n4. Debris: There's no evident debris or displaced objects that might indicate recent flooding or storm damage.\\n\\n5. Lighting: The city lights in the background are functioning, suggesting no widespread power outages that might occur during a disaster.\\n\\nOverall, this image does not show any clear signs of flooding, road damage, or disaster impact. The river and surrounding area appear to be in a normal state. However, it's important to note that this is a single snapshot and may not represent conditions upstream or downstream, or how they might change over time.\"}], 'stop_reason': 'end_turn', 'stop_sequence': None, 'usage': {'input_tokens': 1588, 'cache_creation_input_tokens': 0, 'cache_read_input_tokens': 0, 'output_tokens': 286, 'service_tier': 'standard'}}\n"
     ]
    }
   ],
   "source": [
    "# Claude APIレスポンスのデバッグ表示\n",
    "print('Status Code:', response.status_code)\n",
    "print('Response JSON:', response.json())"
   ]
  },
  {
   "cell_type": "markdown",
   "id": "3899df71",
   "metadata": {},
   "source": [
    "### 3. 🚨 災害キーワード抽出、災害スコア判定モジュール\n",
    "- 出力文から災害関連キーワードを抽出（例：冠水、氾濫、土砂）\n",
    "- スコアリングして「災害あり／なし」を判定"
   ]
  },
  {
   "cell_type": "code",
   "execution_count": 3,
   "id": "9c76fa10",
   "metadata": {},
   "outputs": [
    {
     "name": "stdout",
     "output_type": "stream",
     "text": [
      "📜 被害説明: This image shows a view of the Tone River (利根川) in Chiba Prefecture, Japan. The image is a night view, likely from a monitoring camera, as indicated by the text overlay providing location details.\n",
      "\n",
      "Regarding signs of flooding, road damage, or disaster impact:\n",
      "\n",
      "1. Water level: The river appears to be at a normal level, not showing any obvious signs of flooding. The banks of the river are clearly visible and not submerged.\n",
      "\n",
      "2. Riverbank condition: The grassy area along the riverbank seems intact and not eroded, which would be a sign if there had been recent flooding.\n",
      "\n",
      "3. Infrastructure: There are no visible signs of damage to any structures or roads in the image. The paths visible on the riverbank appear to be in normal condition.\n",
      "\n",
      "4. Debris: There's no evident debris or displaced objects that might indicate recent flooding or storm damage.\n",
      "\n",
      "5. Lighting: The city lights in the background are functioning, suggesting no widespread power outages that might occur during a disaster.\n",
      "\n",
      "Overall, this image does not show any clear signs of flooding, road damage, or disaster impact. The river and surrounding area appear to be in a normal state. However, it's important to note that this is a single snapshot and may not represent conditions upstream or downstream, or how they might change over time.\n",
      "📊 災害スコア: 1.40\n",
      "🔍 該当キーワード: ['flood', 'damage', 'debris', 'storm', 'water level']\n"
     ]
    }
   ],
   "source": [
    "def score_flood_claude(description: str) -> float:\n",
    "    keywords = {\n",
    "        \"flood\": 0.4,\n",
    "        \"overflow\": 0.3,\n",
    "        \"impassable\": 0.4,\n",
    "        \"damage\": 0.3,\n",
    "        \"debris\": 0.2,\n",
    "        \"storm\": 0.2,\n",
    "        \"high water\": 0.3,\n",
    "        \"water level\": 0.3,\n",
    "        \"bridge failure\": 0.5,\n",
    "        \"road washed out\": 0.5\n",
    "    }\n",
    "\n",
    "    score = 0.0\n",
    "    lowered = description.lower()\n",
    "\n",
    "    # キーワードごとにスコアを加算\n",
    "    for word, weight in keywords.items():\n",
    "        if word in lowered:\n",
    "            score += weight\n",
    "    return min(score, 3.0)\n",
    "\n",
    "# 該当したキーワード抽出してリスト化\n",
    "def extract_keywords(description: str) -> list:\n",
    "    keywords = {\n",
    "        \"flood\": 0.4,\n",
    "        \"overflow\": 0.3,\n",
    "        \"impassable\": 0.4,\n",
    "        \"damage\": 0.3,\n",
    "        \"debris\": 0.2,\n",
    "        \"storm\": 0.2,\n",
    "        \"high water\": 0.3,\n",
    "        \"water level\": 0.3,\n",
    "        \"bridge failure\": 0.5,\n",
    "        \"road washed out\": 0.5\n",
    "    }\n",
    "\n",
    "    found_keywords = []\n",
    "    lowered = description.lower()\n",
    "\n",
    "    for word in keywords.keys():\n",
    "        if word in lowered:\n",
    "            found_keywords.append(word)\n",
    "\n",
    "    return found_keywords\n",
    "\n",
    "# 被害説明の抽出とスコア計算、キーワードリストを表示\n",
    "description_text = response.json()[\"content\"][0][\"text\"]\n",
    "print(\"📜 被害説明:\", description_text)\n",
    "\n",
    "score = score_flood_claude(description_text)\n",
    "print(f\"📊 災害スコア: {score:.2f}\")\n",
    "found_disaster_words = extract_keywords(description_text)\n",
    "print(\"🔍 該当キーワード:\", found_disaster_words)"
   ]
  },
  {
   "cell_type": "markdown",
   "id": "129ac3d5",
   "metadata": {},
   "source": [
    "#### JSON形式で出力"
   ]
  },
  {
   "cell_type": "code",
   "execution_count": 4,
   "id": "e6c86fca",
   "metadata": {},
   "outputs": [],
   "source": [
    "# JSON形式でのレスポンスを保存\n",
    "import json\n",
    "\n",
    "# found_disaster_wordsをテキスト化\n",
    "import os\n",
    "found_disaster_words_text = \", \".join(found_disaster_words) if found_disaster_words else \"None\"\n",
    "\n",
    "response_data = {\n",
    "    \"description\": description_text,\n",
    "    \"score\": score,\n",
    "    \"found_disaster_words\": found_disaster_words_text\n",
    "}   "
   ]
  },
  {
   "cell_type": "markdown",
   "id": "8b58d660",
   "metadata": {},
   "source": [
    "#### 5. 📝 被害要約生成\n",
    "- 被害内容を要約し、以下のようなレポートを生成：\n",
    "- 【災害報告】\n",
    "- 主な災害事象：キーワード\n",
    "- 災害スコア：1.3\n",
    "- 災害を検知した画像：ファイル名\n",
    "- 検知時刻：2025年7月9日 06:15\n",
    "- 状況：道路が冠水し、車両が通行不能。水位は歩道を越えている。\n",
    "- 詳細な被害説明：画像から推論出力の全文"
   ]
  },
  {
   "cell_type": "code",
   "execution_count": 5,
   "id": "6c9bac82",
   "metadata": {},
   "outputs": [
    {
     "name": "stdout",
     "output_type": "stream",
     "text": [
      "【災害報告】\n",
      "- 主な災害事象：flood, damage, debris, storm, water level\n",
      "- 災害スコア：1.0\n",
      "- 災害を検知した画像：KantoYT1_20250714_034402.jpg\n",
      "- 検知時刻：2025年7月9日 06:15\n",
      "- 状況：This image shows a view of the Tone River (利根川) in Chiba Prefecture, Japan. The image is a night view, likely from a monitoring camera, as indicated by the text overlay providing location details.\n",
      "\n",
      "Regarding signs of flooding, road damage, or disaster impact:\n",
      "\n",
      "1. Water level: The river appears to be at a normal level, not showing any obvious signs of flooding. The banks of the river are clearly visible and not submerged.\n",
      "\n",
      "2. Riverbank condition: The grassy area along the riverbank seems intact and not eroded, which would be a sign if there had been recent flooding.\n",
      "\n",
      "3. Infrastructure: There are no visible signs of damage to any structures or roads in the image. The paths visible on the riverbank appear to be in normal condition.\n",
      "\n",
      "4. Debris: There's no evident debris or displaced objects that might indicate recent flooding or storm damage.\n",
      "\n",
      "5. Lighting: The city lights in the background are functioning, suggesting no widespread power outages that might occur during a disaster.\n",
      "\n",
      "Overall, this image does not show any clear signs of flooding, road damage, or disaster impact. The river and surrounding area appear to be in a normal state. However, it's important to note that this is a single snapshot and may not represent conditions upstream or downstream, or how they might change over time.\n",
      "- 詳細な推論と説明：This image shows a view of the Tone River (利根川) in Chiba Prefecture, Japan. The image is a night view, likely from a monitoring camera, as indicated by the text overlay providing location details.\n",
      "\n",
      "Regarding signs of flooding, road damage, or disaster impact:\n",
      "\n",
      "1. Water level: The river appears to be at a normal level, not showing any obvious signs of flooding. The banks of the river are clearly visible and not submerged.\n",
      "\n",
      "2. Riverbank condition: The grassy area along the riverbank seems intact and not eroded, which would be a sign if there had been recent flooding.\n",
      "\n",
      "3. Infrastructure: There are no visible signs of damage to any structures or roads in the image. The paths visible on the riverbank appear to be in normal condition.\n",
      "\n",
      "4. Debris: There's no evident debris or displaced objects that might indicate recent flooding or storm damage.\n",
      "\n",
      "5. Lighting: The city lights in the background are functioning, suggesting no widespread power outages that might occur during a disaster.\n",
      "\n",
      "Overall, this image does not show any clear signs of flooding, road damage, or disaster impact. The river and surrounding area appear to be in a normal state. However, it's important to note that this is a single snapshot and may not represent conditions upstream or downstream, or how they might change over time.\n",
      "📝 レポートを保存しました: disaster_report_KantoYT1_20250714_034402.json\n"
     ]
    }
   ],
   "source": [
    "from datetime import datetime\n",
    "\n",
    "def generate_disaster_report(description, keywords, score, image_filename, detected_time,description_text):\n",
    "    # スコアの正規化\n",
    "    normalized_score = min(score, 1.0)\n",
    "\n",
    "    # フォーマット用の時刻変換（例: \"20250709_0615\" → \"2025年7月9日 06:15\"）\n",
    "    def format_timestamp(ts_str):\n",
    "        try:\n",
    "            dt = datetime.strptime(ts_str, \"%Y%m%d_%H%M\")\n",
    "            return dt.strftime(\"%Y年%m月%d日 %H:%M\")\n",
    "        except:\n",
    "            return detected_time  # 変換できなければそのまま使う\n",
    "\n",
    "    # レポート本文の生成\n",
    "    report = f\"\"\"\n",
    "【災害報告】\n",
    "- 主な災害事象：{keywords}\n",
    "- 災害スコア：{normalized_score:.1f}\n",
    "- 災害を検知した画像：{image_filename}\n",
    "- 検知時刻：{format_timestamp(image_filename.split(\"frame_\")[-1].split(\".jpg\")[0])}\n",
    "- 状況：{description}\n",
    "- 詳細な推論と説明：{description_text}\n",
    "\"\"\".strip()\n",
    "\n",
    "    return report\n",
    "\n",
    "# レポート生成＆表示\n",
    "report_text = generate_disaster_report(\n",
    "    description=response_data[\"description\"],\n",
    "    keywords=response_data[\"found_disaster_words\"],\n",
    "    score=response_data[\"score\"],\n",
    "    image_filename=os.path.basename(image_path),\n",
    "    detected_time=\"2025年7月9日 06:15\",\n",
    "    description_text=description_text\n",
    ")\n",
    "\n",
    "print(report_text)\n",
    "\n",
    "#　report_textをJSON形式で出力\n",
    "import json\n",
    "report_json = {\n",
    "    \"report\": report_text,\n",
    "    \"image_filename\": os.path.basename(image_path),\n",
    "    \"detected_time\": \"2025年7月9日 06:15\"\n",
    "}\n",
    "#   保存するファイル名に、画像ファイル名を含める\n",
    "report_filename = f\"disaster_report_{os.path.basename(image_path).split('.')[0]}.json\"\n",
    "with open(report_filename, \"w\", encoding=\"utf-8\") as f:\n",
    "    json.dump(report_json, f, ensure_ascii=False, indent=4)\n",
    "print(f\"📝 レポートを保存しました: {report_filename}\")\n"
   ]
  },
  {
   "cell_type": "markdown",
   "id": "45db8b9f",
   "metadata": {},
   "source": [
    "#### (PEND) 📍 発生位置の特定\n",
    "- 災害あり判定のカメラIDを特定\n",
    "- カメラ位置のGPS座標のマッピングテーブルを用意\n",
    "- (PEND)発生地点を地図上にプロット（例：Plotly, Leaflet）"
   ]
  }
 ],
 "metadata": {
  "kernelspec": {
   "display_name": "env",
   "language": "python",
   "name": "python3"
  },
  "language_info": {
   "codemirror_mode": {
    "name": "ipython",
    "version": 3
   },
   "file_extension": ".py",
   "mimetype": "text/x-python",
   "name": "python",
   "nbconvert_exporter": "python",
   "pygments_lexer": "ipython3",
   "version": "3.11.9"
  }
 },
 "nbformat": 4,
 "nbformat_minor": 5
}
