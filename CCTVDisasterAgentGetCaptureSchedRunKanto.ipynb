{
 "cells": [
  {
   "cell_type": "markdown",
   "id": "425c7fb2",
   "metadata": {},
   "source": [
    "## CCTVストリーム画像から災害検知するエージェント\n",
    "### 🧩 システム構成（MVP）\n",
    "- graph TD\n",
    "- A[CCTV画像ストリーム] --> B[画像キャプチャ & 前処理]\n",
    "- B --> C[UI-TARS-1.5: Image-to-Text]\n",
    "- C --> D[災害キーワード、災害スコア判定モジュール]\n",
    "- D --> E[位置特定（カメラID → 地図）]\n",
    "- E --> F[被害要約生成]\n",
    "- F --> G[自然言語レポート生成]"
   ]
  },
  {
   "cell_type": "markdown",
   "id": "e5da0d1c",
   "metadata": {},
   "source": [
    "#### 1. 📸 画像キャプチャ & 前処理\n",
    "- 各CCTVから定期的に画像を取得（例：1分ごと）\n",
    "- 解像度調整、ノイズ除去、タイムスタンプ付与\n",
    "\n",
    "##### 🔧 必要なツール\n",
    "- | ツール | 用途 | \n",
    "- | ffmpeg | ストリームからフレームを抽出 | \n",
    "- | OpenCV | Pythonで画像処理と保存 | \n",
    "##### インストール\n",
    "- pip install yt-dlp opencv-python\n",
    "- ⇒Successfully installed opencv-python-4.12.0.88 yt-dlp-2025.6.30 \n",
    "- ▼Not well：sudo apt install ffmpeg\n",
    "##### sudo無効の仮想環境での対処法\n",
    "- そのメッセージは、お使いの環境（一部の仮想環境）で sudo 権限が無効化されていることを示しています。以下に、状況別の対処法を整理しました：\n",
    "- 🛠️ 対処法：sudo が無効な環境で ffmpeg を使うには？\n",
    "- ✅ 方法①：ffmpeg をバイナリで直接インストール（推奨）\n",
    "- 公式ffmpegビルドサイト または FFmpeg GitHub から静的バイナリをダウンロード、例（Linux x86_64）:\n",
    "- 実行ファイルをパスに追加（例：~/.local/bin）\n",
    "- 動作確認\n",
    "##### ffmpeg.exe Windows用\n",
    "- ffmpeg（拡張子なし）は Linux用の実行バイナリ\n",
    "- Windowsでは .exe 拡張子のある Windowsネイティブビルド が必要\n",
    "✅ 解決策：Windows向けの正しい ffmpeg.exe を入手する\n",
    "以下の手順で、Windows用の ffmpeg.exe を確実に取得できます：\n",
    "🔗 ステップ1：公式Windowsビルドサイトにアクセス\n",
    "👉 https://www.gyan.dev/ffmpeg/builds/\n",
    "📦 ステップ2：次のいずれかをダウンロード\n",
    "- ffmpeg-release-essentials.zip（軽量で必要最小限）、解凍し、exeを確認\n",
    "✅フォルダーを作成\n",
    "- New-Item -ItemType Directory -Path \"C:\\Tools\\ffmpeg\\bin\" -Force\n",
    "✅環境変数 PATH に追加（永続化）\n",
    "- $env:Path += \";C:\\Tools\\ffmpeg\\bin\"\n",
    "✅ 動作確認\n",
    "- ffmpeg -version → バージョン情報が表示されれば成功です！\n",
    "- ffmpeg version 7.1.1-essentials_build-www.gyan.dev Copyright (c) 2000-2025 the FFmpeg developers"
   ]
  },
  {
   "cell_type": "markdown",
   "id": "b33185db",
   "metadata": {},
   "source": [
    "### 🎥 ストリーム画像取得スクリプト（Windows環境向け）\n",
    "- CCTVストリームからの画像取得スクリプトの整備に進みましょう。\n",
    "- 関東地方整備局より、ライブ映像が試験配信されている。\n",
    "- 10秒ごとに、カメラが切り替わっている。\n",
    "- 次の「河川YouTubeライブ映像」を対象に、10秒ごとに静止画像を保存できるMVPコードを用意します。\n",
    "- 【試験配信】関東地方整備局　那珂川・久慈川 ライブ映像\n",
    "\n",
    "✅ 必要なツール\n",
    "- | ツール | 用途 | \n",
    "- | yt-dlp | YouTubeライブのストリームURLを取得 | \n",
    "- | ffmpeg.exe | ストリームから静止画を抽出 | \n",
    "- | PowerShell | スケジュール＆保存処理 | "
   ]
  },
  {
   "cell_type": "markdown",
   "id": "e2830377",
   "metadata": {},
   "source": [
    "- PowerShellスクリプトをPythonから実行できるように修正しました。\n",
    "新しいCell In[1]は、subprocessを使ってPowerShellスクリプトを呼び出すPythonコードになっています。\n",
    "- このまま実行すれば、PowerShellの処理がPythonから開始されます。"
   ]
  },
  {
   "cell_type": "code",
   "execution_count": null,
   "id": "4de5bc4c",
   "metadata": {},
   "outputs": [],
   "source": [
    "import subprocess\n",
    "from datetime import datetime, timedelta\n",
    "import time\n",
    "\n",
    "List_of_area_name = [\"NakaKuji\", \"TamaTsuruSagami\", \"ToneKarasu\", \"Watarase\"]\n",
    "List_of_youtube_url = [\n",
    "    \"https://www.youtube.com/live/bgHmONs2gKM?si=xJ0_h4P756H_9Y27\",\n",
    "    \"https://www.youtube.com/live/QUozBiadHV8?si=7QAFRkBkKha3VDcy\",\n",
    "    \"https://www.youtube.com/live/IyE0H7nKP68?si=vaTbIU5cE8VFtQeg\",\n",
    "    \"https://www.youtube.com/live/R3KlRdrNyGs?si=0xb1_VLFnrvjK7iF\"\n",
    "]\n",
    "\n",
    "# スケジュール開始・終了時刻\n",
    "start_time = datetime.combine(datetime.today(), datetime.strptime(\"17:15\", \"%H:%M\").time())\n",
    "end_time = datetime.combine(datetime.today(), datetime.strptime(\"22:00\", \"%H:%M\").time())\n",
    "\n",
    "# 初回実行時刻を開始時刻に設定\n",
    "next_run = start_time\n",
    "\n",
    "# 現在時刻が終了時刻を過ぎるまでループ\n",
    "while next_run <= end_time:\n",
    "    # 実行時刻まで待機（秒単位で短くループ）\n",
    "    while datetime.now() < next_run:\n",
    "        time.sleep(1)\n",
    "    # 画像キャプチャ処理\n",
    "    for area, youtube_url in zip(List_of_area_name, List_of_youtube_url):\n",
    "        save_path = f\"C:\\\\Users\\\\yasun\\\\PyTorch\\\\CCTVDisasterAgent\\\\{area}Frames\"\n",
    "        powershell_script = fr'''\n",
    "        $youtubeURL = \"{youtube_url}\"\n",
    "        $savePath   = \"{save_path}\"\n",
    "        $ffmpegPath = \"C:\\\\Tools\\\\ffmpeg\\\\bin\\\\ffmpeg.exe\"\n",
    "        $interval   = 5\n",
    "        $Num_of_Captures = 5\n",
    "        New-Item -ItemType Directory -Path $savePath -Force | Out-Null\n",
    "        for ($i = 0; $i -lt $Num_of_Captures; $i++) {{\n",
    "            $timestamp = Get-Date -Format \"yyyyMMdd_HHmmss\"\n",
    "            $imageFile = \"$savePath\\\\frame_$timestamp.jpg\"\n",
    "            $streamURL = yt-dlp -g $youtubeURL\n",
    "            & \"$ffmpegPath\" -y -i \"$streamURL\" -frames:v 1 \"$imageFile\"\n",
    "            Write-Host \"✅ Saved: $imageFile\"\n",
    "            Start-Sleep -Seconds $interval\n",
    "        }}\n",
    "        '''\n",
    "        subprocess.run(['powershell', '-Command', powershell_script])\n",
    "    # 次回実行時刻を5分後に更新\n",
    "    next_run += timedelta(minutes=5)"
   ]
  },
  {
   "cell_type": "markdown",
   "id": "45db8b9f",
   "metadata": {},
   "source": [
    "#### (FUTURE)災害スコアを時系列に可視化\n",
    "- 地点別に災害のハザードの高まりを可視化し、備える行動の判断材料とする\n",
    "\n",
    "#### (PEND) 📍 発生位置の特定\n",
    "- 災害あり判定のカメラIDを特定\n",
    "- カメラ位置のGPS座標のマッピングテーブルを用意\n",
    "- (PEND)発生地点を地図上にプロット（例：Plotly, Leaflet）"
   ]
  }
 ],
 "metadata": {
  "kernelspec": {
   "display_name": "env",
   "language": "python",
   "name": "python3"
  },
  "language_info": {
   "codemirror_mode": {
    "name": "ipython",
    "version": 3
   },
   "file_extension": ".py",
   "mimetype": "text/x-python",
   "name": "python",
   "nbconvert_exporter": "python",
   "pygments_lexer": "ipython3",
   "version": "3.11.9"
  }
 },
 "nbformat": 4,
 "nbformat_minor": 5
}
